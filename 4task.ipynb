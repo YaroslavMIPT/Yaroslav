{
 "cells": [
  {
   "cell_type": "code",
   "execution_count": 2,
   "id": "initial_id",
   "metadata": {
    "collapsed": true,
    "ExecuteTime": {
     "end_time": "2023-10-06T22:18:14.167271Z",
     "start_time": "2023-10-06T22:18:14.163823Z"
    }
   },
   "outputs": [
    {
     "name": "stdout",
     "output_type": "stream",
     "text": [
      "120\n"
     ]
    }
   ],
   "source": [
    "#R1\n",
    "def factorial(n):\n",
    "    if n == 1:\n",
    "        return 1\n",
    "    return factorial(n - 1) * n  # Ф-ция вызывает саму себя здесь\n",
    "\n",
    "print(factorial(5))"
   ]
  },
  {
   "cell_type": "code",
   "execution_count": 7,
   "outputs": [
    {
     "name": "stdout",
     "output_type": "stream",
     "text": [
      "Первый список: [1, 2, 3]\n",
      "Второй список: [4, 3, 2]\n",
      "2\n"
     ]
    }
   ],
   "source": [
    "#NL5\n",
    "# Чтобы считывать числа, воспользуемся генератором\n",
    "\n",
    "first_list = [int(x) for x in input().split()]  \n",
    "second_list = [int(x) for x in input().split()]\n",
    "count = 0\n",
    "for elem in first_list:\n",
    "    if elem in second_list:\n",
    "        count += 1\n",
    "print(f\"Первый список: {first_list}\")\n",
    "print(f\"Второй список: {second_list}\")\n",
    "print(count)"
   ],
   "metadata": {
    "collapsed": false,
    "ExecuteTime": {
     "end_time": "2023-10-06T22:24:19.727731Z",
     "start_time": "2023-10-06T22:24:16.652747Z"
    }
   },
   "id": "bb18199b34bfe13d"
  },
  {
   "cell_type": "code",
   "execution_count": 10,
   "outputs": [
    {
     "name": "stdout",
     "output_type": "stream",
     "text": [
      "3\n",
      "6\n",
      "9\n",
      "12\n"
     ]
    }
   ],
   "source": [
    "#S1\n",
    "def sum_digits(number: str) -> int:\n",
    "    nums_list = []\n",
    "    for i in range(len(number)):\n",
    "        if number[i].isnumeric():\n",
    "            nums_list.append(int(number[i]))\n",
    "    return sum(nums_list)\n",
    "\n",
    "\n",
    "print(sum_digits(\"He11o W0rld1\"))\n",
    "print(sum_digits(\"123\"))\n",
    "print(sum_digits(\"Don3 Wo33y\"))\n",
    "print(sum_digits(\"ab7cdf2fag3\"))"
   ],
   "metadata": {
    "collapsed": false,
    "ExecuteTime": {
     "end_time": "2023-10-06T22:28:08.860965Z",
     "start_time": "2023-10-06T22:28:08.856217Z"
    }
   },
   "id": "66e9d5992722196b"
  },
  {
   "cell_type": "code",
   "execution_count": 11,
   "outputs": [
    {
     "name": "stdout",
     "output_type": "stream",
     "text": [
      "зАбОрЧиК\n"
     ]
    }
   ],
   "source": [
    "#S2\n",
    "def mirror_case(string: str) -> str:\n",
    "    new_string = \"\"\n",
    "    for i in range(len(string)):\n",
    "        if string[i].islower():\n",
    "            new_string += string[i].capitalize()\n",
    "        else:\n",
    "            new_string += string[i].lower()\n",
    "    return new_string\n",
    "\n",
    "print(mirror_case(\"ЗаБоРчИк\"))"
   ],
   "metadata": {
    "collapsed": false,
    "ExecuteTime": {
     "end_time": "2023-10-06T22:33:10.629818Z",
     "start_time": "2023-10-06T22:33:10.609371Z"
    }
   },
   "id": "f63bc3df9bcb6e76"
  },
  {
   "cell_type": "code",
   "execution_count": 13,
   "outputs": [
    {
     "name": "stdout",
     "output_type": "stream",
     "text": [
      "NO\n",
      "NO\n",
      "NO\n",
      "YES\n",
      "YES\n",
      "NO\n"
     ]
    }
   ],
   "source": [
    "#NL6\n",
    "list_of_nums = [x for x in input().split()]\n",
    "set_nums = set()\n",
    "for number in list_of_nums:\n",
    "    if number in set_nums:\n",
    "        print(\"YES\")\n",
    "    else:\n",
    "        print(\"NO\")\n",
    "        set_nums.add(number)"
   ],
   "metadata": {
    "collapsed": false,
    "ExecuteTime": {
     "end_time": "2023-10-06T22:37:16.042832Z",
     "start_time": "2023-10-06T22:37:04.374493Z"
    }
   },
   "id": "79881592f42fe090"
  }
 ],
 "metadata": {
  "kernelspec": {
   "display_name": "Python 3",
   "language": "python",
   "name": "python3"
  },
  "language_info": {
   "codemirror_mode": {
    "name": "ipython",
    "version": 2
   },
   "file_extension": ".py",
   "mimetype": "text/x-python",
   "name": "python",
   "nbconvert_exporter": "python",
   "pygments_lexer": "ipython2",
   "version": "2.7.6"
  }
 },
 "nbformat": 4,
 "nbformat_minor": 5
}
