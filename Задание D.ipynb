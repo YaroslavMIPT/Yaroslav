{
 "cells": [
  {
   "cell_type": "code",
   "execution_count": 32,
   "id": "initial_id",
   "metadata": {
    "collapsed": true,
    "ExecuteTime": {
     "end_time": "2023-11-01T12:53:24.054269Z",
     "start_time": "2023-11-01T12:53:24.044803Z"
    }
   },
   "outputs": [],
   "source": [
    "with open(\"D1.txt\") as f:\n",
    "    dataset = f.readlines()"
   ]
  },
  {
   "cell_type": "code",
   "execution_count": 33,
   "outputs": [],
   "source": [
    "output_dict = dict()\n",
    "result = open(\"result.txt\", \"a\")\n",
    "for element in dataset:\n",
    "    key, value = element.strip().split(\" -> \")\n",
    "    key, value = value, key\n",
    "    result.write(f\"{key} -> {value}\")"
   ],
   "metadata": {
    "collapsed": false,
    "ExecuteTime": {
     "end_time": "2023-11-01T12:53:24.054805Z",
     "start_time": "2023-11-01T12:53:24.048034Z"
    }
   },
   "id": "d3e97a9e71a4f280"
  },
  {
   "cell_type": "code",
   "execution_count": 42,
   "outputs": [
    {
     "name": "stdout",
     "output_type": "stream",
     "text": [
      "GUGCAUCUGACUCCUGAGGAGAAG\n",
      "CACGTAGACTGAGGACTCCTCTTC\n",
      "GTGCATCTGACTCCTGAGGAGAAG\n"
     ]
    }
   ],
   "source": [
    "# D3\n",
    "string = \"GUGCAUCUGACUCCUGAGGAGAAG\"\n",
    "print(string)\n",
    "f_dna = {\"A\": \"T\", \"U\": \"A\", \"G\": \"C\", \"C\": \"G\"}\n",
    "s_dna = {\"A\": \"T\", \"T\": \"A\", \"G\": \"C\", \"C\": \"G\"}\n",
    "f_dna_output = \"\"\n",
    "s_dna_output = \"\"\n",
    "for el in string:\n",
    "    if el in f_dna.keys():\n",
    "        f_dna_output += f_dna[el]\n",
    "    else:\n",
    "        print(f\"ERROR, AGCT '{el}' DOESN'T FOUND\")\n",
    "        break\n",
    "for el in f_dna_output:\n",
    "    if el in s_dna.keys():\n",
    "        s_dna_output += s_dna[el]\n",
    "    else:\n",
    "        print(f\"ERROR, AGCT '{el}' DOESN'T FOUND\")\n",
    "        break\n",
    "print(f_dna_output)\n",
    "print(s_dna_output)"
   ],
   "metadata": {
    "collapsed": false,
    "ExecuteTime": {
     "end_time": "2023-11-01T13:12:14.936230Z",
     "start_time": "2023-11-01T13:12:14.931181Z"
    }
   },
   "id": "51f167adf71671f9"
  },
  {
   "cell_type": "code",
   "execution_count": null,
   "outputs": [],
   "source": [],
   "metadata": {
    "collapsed": false
   },
   "id": "9976de1e78890c02"
  }
 ],
 "metadata": {
  "kernelspec": {
   "display_name": "Python 3",
   "language": "python",
   "name": "python3"
  },
  "language_info": {
   "codemirror_mode": {
    "name": "ipython",
    "version": 2
   },
   "file_extension": ".py",
   "mimetype": "text/x-python",
   "name": "python",
   "nbconvert_exporter": "python",
   "pygments_lexer": "ipython2",
   "version": "2.7.6"
  }
 },
 "nbformat": 4,
 "nbformat_minor": 5
}
